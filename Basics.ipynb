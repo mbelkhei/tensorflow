{
 "cells": [
  {
   "cell_type": "code",
   "execution_count": 1,
   "metadata": {},
   "outputs": [],
   "source": [
    "import tensorflow as tf"
   ]
  },
  {
   "cell_type": "code",
   "execution_count": 8,
   "metadata": {},
   "outputs": [],
   "source": [
    "sess = tf.Session() # start tf session"
   ]
  },
  {
   "cell_type": "markdown",
   "metadata": {},
   "source": [
    "### Print 'Hello world'"
   ]
  },
  {
   "cell_type": "code",
   "execution_count": 9,
   "metadata": {},
   "outputs": [
    {
     "data": {
      "text/plain": [
       "b'Hello world'"
      ]
     },
     "execution_count": 9,
     "metadata": {},
     "output_type": "execute_result"
    }
   ],
   "source": [
    "hello = tf.constant('Hello world') # # Create a Constant op that is added as a node to the default graph.\n",
    "sess.run(hello) # The value returned by the constructor represents the output of the Constant op."
   ]
  },
  {
   "cell_type": "markdown",
   "metadata": {},
   "source": [
    "## Basic operations"
   ]
  },
  {
   "cell_type": "code",
   "execution_count": 19,
   "metadata": {},
   "outputs": [
    {
     "name": "stdout",
     "output_type": "stream",
     "text": [
      "a is 2, b is 3\n",
      "Adding the two constants equals to : 5\n",
      "Multiplying the two constants equals to : 6\n"
     ]
    }
   ],
   "source": [
    "# Constant operations\n",
    "a = tf.constant(2)\n",
    "b = tf.constant(3)\n",
    "\n",
    "# Run the graph\n",
    "with tf.Session() as sess:\n",
    "    print('a is {}, b is {}'.format(sess.run(a),sess.run(b)))\n",
    "    print('Adding the two constants equals to : {}'.format(sess.run(a+b)))\n",
    "    print('Multiplying the two constants equals to : {}'.format(sess.run(a*b)))"
   ]
  },
  {
   "cell_type": "code",
   "execution_count": 18,
   "metadata": {},
   "outputs": [
    {
     "name": "stdout",
     "output_type": "stream",
     "text": [
      "Adding the two variables equals to : 5\n",
      "Multiplying the two variables equals to : 6\n"
     ]
    }
   ],
   "source": [
    "# Variables as graph input\n",
    "a = tf.placeholder(tf.int16)\n",
    "b = tf.placeholder(tf.int16)\n",
    "\n",
    "# define add and multiplication operations \n",
    "add = tf.add(a,b)\n",
    "mul = tf.multiply(a,b)\n",
    "\n",
    "# Run the graph\n",
    "with tf.Session() as sess:\n",
    "    print('Adding the two variables equals to : {}'.format(sess.run(add, feed_dict={a:2, b:3})))\n",
    "    print('Multiplying the two variables equals to : {}'.format(sess.run(mul, feed_dict={a:2, b:3})))"
   ]
  },
  {
   "cell_type": "markdown",
   "metadata": {},
   "source": [
    "### Matrix operations"
   ]
  },
  {
   "cell_type": "code",
   "execution_count": 31,
   "metadata": {},
   "outputs": [
    {
     "name": "stdout",
     "output_type": "stream",
     "text": [
      "[[ 10.]\n",
      " [ 10.]]\n"
     ]
    }
   ],
   "source": [
    "# add matrices\n",
    "matrix1 = tf.constant([[4.], [4.]]) # create 2x1 matrix\n",
    "matrix2 = tf.constant([[6.], [6.]]) # create 2x1 matrix\n",
    "\n",
    "add = tf.add(matrix1, matrix2) # use the add operator\n",
    "\n",
    "with tf.Session() as sess:\n",
    "    print(sess.run(add))"
   ]
  },
  {
   "cell_type": "code",
   "execution_count": 27,
   "metadata": {},
   "outputs": [
    {
     "name": "stdout",
     "output_type": "stream",
     "text": [
      "[[ 48.]]\n"
     ]
    }
   ],
   "source": [
    "# multpily matrices\n",
    "matrix1 = tf.constant([[4., 4.]]) # create 1x2 matrix\n",
    "matrix2 = tf.constant([[6.], [6.]]) # create 2x1 matrix\n",
    "\n",
    "product = tf.matmul(matrix1, matrix2) # use matrix multiplication operator\n",
    "\n",
    "with tf.Session() as sess:\n",
    "    print(sess.run(product))"
   ]
  },
  {
   "cell_type": "code",
   "execution_count": 34,
   "metadata": {},
   "outputs": [
    {
     "name": "stdout",
     "output_type": "stream",
     "text": [
      "The determinant of the matrix is -16.00\n"
     ]
    }
   ],
   "source": [
    "# determinant of a matrix\n",
    "matrix = tf.constant([[4., 4.],\n",
    "                      [6., 2.]]) # create 2x2 matrix\n",
    "\n",
    "det = tf.matrix_determinant(matrix)\n",
    "with tf.Session() as sess:\n",
    "    print('The determinant of the matrix is {:.2f}'.format(sess.run(det)))\n"
   ]
  },
  {
   "cell_type": "code",
   "execution_count": 36,
   "metadata": {},
   "outputs": [
    {
     "name": "stdout",
     "output_type": "stream",
     "text": [
      "The transpose of the matrix is [[ 1.  3.]\n",
      " [ 2.  4.]]\n"
     ]
    }
   ],
   "source": [
    "# matrix tanspose\n",
    "matrix = tf.constant([[1., 2.],\n",
    "                      [3., 4.]]) # create 2x2 matrix\n",
    "trans = tf.matrix_transpose(matrix)\n",
    "with tf.Session() as sess:\n",
    "    print('The transpose of the matrix is {}'.format(sess.run(trans)))"
   ]
  },
  {
   "cell_type": "code",
   "execution_count": null,
   "metadata": {},
   "outputs": [],
   "source": []
  }
 ],
 "metadata": {
  "kernelspec": {
   "display_name": "Python 3",
   "language": "python",
   "name": "python3"
  },
  "language_info": {
   "codemirror_mode": {
    "name": "ipython",
    "version": 3
   },
   "file_extension": ".py",
   "mimetype": "text/x-python",
   "name": "python",
   "nbconvert_exporter": "python",
   "pygments_lexer": "ipython3",
   "version": "3.5.4"
  }
 },
 "nbformat": 4,
 "nbformat_minor": 2
}
