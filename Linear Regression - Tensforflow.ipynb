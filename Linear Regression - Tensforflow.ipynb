{
 "cells": [
  {
   "cell_type": "markdown",
   "metadata": {},
   "source": [
    "### Linear Regression - Tensforflow"
   ]
  },
  {
   "cell_type": "code",
   "execution_count": 1,
   "metadata": {},
   "outputs": [],
   "source": [
    "import tensorflow as tf\n",
    "import numpy as np\n",
    "import matplotlib.pyplot as plt"
   ]
  },
  {
   "cell_type": "code",
   "execution_count": 2,
   "metadata": {},
   "outputs": [],
   "source": [
    "# Parameters\n",
    "learning_rate = 0.01\n",
    "training_epochs = 1000\n",
    "display_step = 50"
   ]
  },
  {
   "cell_type": "code",
   "execution_count": 4,
   "metadata": {},
   "outputs": [],
   "source": [
    "# Training Data\n",
    "train_X = np.asarray([3.3,4.4,5.5,6.71,6.93,4.168,9.779,6.182,7.59,2.167,\n",
    "                         7.042,10.791,5.313,7.997,5.654,9.27,3.1])\n",
    "train_Y = np.asarray([1.7,2.76,2.09,3.19,1.694,1.573,3.366,2.596,2.53,1.221,\n",
    "                         2.827,3.465,1.65,2.904,2.42,2.94,1.3])\n",
    "n_samples = train_X.shape[0]"
   ]
  },
  {
   "cell_type": "code",
   "execution_count": 6,
   "metadata": {},
   "outputs": [],
   "source": [
    "# tf graph input\n",
    "X = tf.placeholder(\"float\")\n",
    "Y = tf.placeholder(\"float\")\n",
    "\n",
    "# weights\n",
    "W = tf.Variable(np.random.randn(), name='weight')\n",
    "b = tf.Variable(np.random.randn(), name='bias')"
   ]
  },
  {
   "cell_type": "code",
   "execution_count": 11,
   "metadata": {},
   "outputs": [],
   "source": [
    "# linear model\n",
    "pred = tf.add(tf.multiply(X,W), b)"
   ]
  },
  {
   "cell_type": "code",
   "execution_count": 15,
   "metadata": {},
   "outputs": [],
   "source": [
    "# mean squared error\n",
    "cost = tf.reduce_sum(tf.pow(pred-Y,2))/(2*n_samples)\n",
    "\n",
    "# gradient descent\n",
    "optimizer = tf.train.GradientDescentOptimizer(learning_rate).minimize(cost)"
   ]
  },
  {
   "cell_type": "code",
   "execution_count": 16,
   "metadata": {},
   "outputs": [],
   "source": [
    "# initialize the variables\n",
    "init = tf.global_variables_initializer()"
   ]
  },
  {
   "cell_type": "code",
   "execution_count": 23,
   "metadata": {},
   "outputs": [
    {
     "name": "stdout",
     "output_type": "stream",
     "text": [
      "Epoch: 50, cost= 0.081633478, W= 0.28787878155708313, b= 0.5260451436042786\n",
      "Epoch: 100, cost= 0.081094436, W= 0.2856018543243408, b= 0.5424258708953857\n",
      "Epoch: 150, cost= 0.080617785, W= 0.28346022963523865, b= 0.5578328371047974\n",
      "Epoch: 200, cost= 0.080196343, W= 0.28144586086273193, b= 0.5723235607147217\n",
      "Epoch: 250, cost= 0.079823717, W= 0.27955135703086853, b= 0.5859521627426147\n",
      "Epoch: 300, cost= 0.079494230, W= 0.27776941657066345, b= 0.5987714529037476\n",
      "Epoch: 350, cost= 0.079202883, W= 0.27609342336654663, b= 0.6108288168907166\n",
      "Epoch: 400, cost= 0.078945383, W= 0.2745174765586853, b= 0.6221659779548645\n",
      "Epoch: 450, cost= 0.078717746, W= 0.2730351984500885, b= 0.6328288912773132\n",
      "Epoch: 500, cost= 0.078516498, W= 0.27164119482040405, b= 0.642857551574707\n",
      "Epoch: 550, cost= 0.078338563, W= 0.27032986283302307, b= 0.652290940284729\n",
      "Epoch: 600, cost= 0.078181274, W= 0.2690965533256531, b= 0.661163866519928\n",
      "Epoch: 650, cost= 0.078042246, W= 0.26793667674064636, b= 0.669507622718811\n",
      "Epoch: 700, cost= 0.077919364, W= 0.2668457627296448, b= 0.6773555278778076\n",
      "Epoch: 750, cost= 0.077810764, W= 0.2658196687698364, b= 0.684736967086792\n",
      "Epoch: 800, cost= 0.077714756, W= 0.26485475897789, b= 0.6916789412498474\n",
      "Epoch: 850, cost= 0.077629954, W= 0.26394709944725037, b= 0.6982082724571228\n",
      "Epoch: 900, cost= 0.077554986, W= 0.263093501329422, b= 0.7043493986129761\n",
      "Epoch: 950, cost= 0.077488728, W= 0.26229047775268555, b= 0.7101258635520935\n",
      "Epoch: 1000, cost= 0.077430181, W= 0.2615353465080261, b= 0.7155585885047913\n",
      "Optimization Finished!\n",
      "Training cost = 0.07743018120527267, W = 0.2615353465080261, b = 0.7155585885047913 \n",
      "\n"
     ]
    },
    {
     "data": {
      "image/png": "[encoded data removed]",
      "text/plain": [
       "<matplotlib.figure.Figure at 0x63ab77cc0>"
      ]
     },
     "metadata": {},
     "output_type": "display_data"
    }
   ],
   "source": [
    "# start training\n",
    "with tf.Session() as sess:\n",
    "    sess.run(init)\n",
    "    \n",
    "    # fit all training data\n",
    "    for epoch in range(1, training_epochs+1):\n",
    "        for (x,y) in zip(train_X, train_Y):\n",
    "            sess.run(optimizer, feed_dict = {X:x, Y:y})\n",
    "        # display logs per epoch step\n",
    "        if (epoch) % display_step == 0:\n",
    "            c = sess.run(cost, feed_dict = {X: train_X, Y: train_Y})\n",
    "            print ('Epoch: {}, cost= {:.9f}, W= {}, b= {}'.format(epoch,\n",
    "                                                                  c, \n",
    "                                                                  sess.run(W),\n",
    "                                                                  sess.run(b)))\n",
    "    print('Optimization Finished!')\n",
    "    training_cost = sess.run(cost, feed_dict = {X: train_X, Y: train_Y})\n",
    "    print('Training cost = {}, W = {}, b = {} \\n'.format(training_cost,\n",
    "                                                         sess.run(W),\n",
    "                                                         sess.run(b)))\n",
    "    plt.plot(train_X, train_Y, 'ro', label='Original data')\n",
    "    plt.plot(train_X, sess.run(W)*train_X + sess.run(b), label='Fitted line')\n",
    "    plt.legend()\n",
    "    plt.show()"
   ]
  },
  {
   "cell_type": "code",
   "execution_count": null,
   "metadata": {},
   "outputs": [],
   "source": []
  }
 ],
 "metadata": {
  "kernelspec": {
   "display_name": "Python 3",
   "language": "python",
   "name": "python3"
  },
  "language_info": {
   "codemirror_mode": {
    "name": "ipython",
    "version": 3
   },
   "file_extension": ".py",
   "mimetype": "text/x-python",
   "name": "python",
   "nbconvert_exporter": "python",
   "pygments_lexer": "ipython3",
   "version": "3.5.4"
  }
 },
 "nbformat": 4,
 "nbformat_minor": 2
}
