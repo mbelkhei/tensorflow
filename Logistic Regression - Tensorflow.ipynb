{
 "cells": [
  {
   "cell_type": "code",
   "execution_count": 1,
   "metadata": {},
   "outputs": [
    {
     "name": "stdout",
     "output_type": "stream",
     "text": [
      "Successfully downloaded train-images-idx3-ubyte.gz 9912422 bytes.\n",
      "Extracting /tmp/data/train-images-idx3-ubyte.gz\n",
      "Successfully downloaded train-labels-idx1-ubyte.gz 28881 bytes.\n",
      "Extracting /tmp/data/train-labels-idx1-ubyte.gz\n",
      "Successfully downloaded t10k-images-idx3-ubyte.gz 1648877 bytes.\n",
      "Extracting /tmp/data/t10k-images-idx3-ubyte.gz\n",
      "Successfully downloaded t10k-labels-idx1-ubyte.gz 4542 bytes.\n",
      "Extracting /tmp/data/t10k-labels-idx1-ubyte.gz\n"
     ]
    }
   ],
   "source": [
    "import tensorflow as tf\n",
    "\n",
    "# Import MINST data\n",
    "from tensorflow.examples.tutorials.mnist import input_data\n",
    "mnist = input_data.read_data_sets(\"/tmp/data/\", one_hot=True)"
   ]
  },
  {
   "cell_type": "code",
   "execution_count": 7,
   "metadata": {},
   "outputs": [
    {
     "data": {
      "text/plain": [
       "(55000, 784)"
      ]
     },
     "execution_count": 7,
     "metadata": {},
     "output_type": "execute_result"
    }
   ],
   "source": [
    "mnist.train.images.shape"
   ]
  },
  {
   "cell_type": "code",
   "execution_count": 13,
   "metadata": {},
   "outputs": [],
   "source": [
    "# Parameters\n",
    "learning_rate = 0.01\n",
    "training_epochs = 25\n",
    "batch_size = 100\n",
    "display_step = 1\n",
    "\n",
    "# tf graph input\n",
    "x = tf.placeholder(tf.float32, [None, 784])\n",
    "y = tf.placeholder(tf.float32, [None, 10])\n",
    "\n",
    "# weights \n",
    "W = tf.Variable(tf.zeros([784,10]))\n",
    "b = tf.Variable(tf.zeros([10]))\n",
    "\n",
    "# model\n",
    "pred = tf.nn.softmax(tf.matmul(x,W)+b)\n",
    "\n",
    "# minimize error using cros entropy\n",
    "cost = tf.reduce_mean(-tf.reduce_sum(y*tf.log(pred), reduction_indices=1))\n",
    "\n",
    "\n",
    "# Gradient Descent\n",
    "optimizer = tf.train.GradientDescentOptimizer(learning_rate).minimize(cost)\n",
    "\n",
    "\n",
    "# initialize variables\n",
    "init = tf.global_variables_initializer()"
   ]
  },
  {
   "cell_type": "code",
   "execution_count": 14,
   "metadata": {},
   "outputs": [
    {
     "name": "stdout",
     "output_type": "stream",
     "text": [
      "Epoch: 1, cost= 1.183631784\n",
      "Epoch: 2, cost= 0.665265724\n",
      "Epoch: 3, cost= 0.552867728\n",
      "Epoch: 4, cost= 0.498727399\n",
      "Epoch: 5, cost= 0.465500833\n",
      "Epoch: 6, cost= 0.442600616\n",
      "Epoch: 7, cost= 0.425571747\n",
      "Epoch: 8, cost= 0.412211632\n",
      "Epoch: 9, cost= 0.401463222\n",
      "Epoch: 10, cost= 0.392414614\n",
      "Epoch: 11, cost= 0.384798252\n",
      "Epoch: 12, cost= 0.378163985\n",
      "Epoch: 13, cost= 0.372404040\n",
      "Epoch: 14, cost= 0.367319061\n",
      "Epoch: 15, cost= 0.362737128\n",
      "Epoch: 16, cost= 0.358626025\n",
      "Epoch: 17, cost= 0.354860174\n",
      "Epoch: 18, cost= 0.351459162\n",
      "Epoch: 19, cost= 0.348315678\n",
      "Epoch: 20, cost= 0.345386857\n",
      "Epoch: 21, cost= 0.342703485\n",
      "Epoch: 22, cost= 0.340250492\n",
      "Epoch: 23, cost= 0.337943998\n",
      "Epoch: 24, cost= 0.335737170\n",
      "Epoch: 25, cost= 0.333700495\n",
      "Optimization finished\n",
      "Accuracy: 0.8889999985694885\n"
     ]
    }
   ],
   "source": [
    "with tf.Session() as sess:\n",
    "    sess.run(init)\n",
    "    \n",
    "    # training cycle\n",
    "    for epoch in range(1, training_epochs+1):\n",
    "        avg_cost = 0\n",
    "        total_batch = int(mnist.train.num_examples/batch_size)\n",
    "        \n",
    "        # loop over all batches\n",
    "        for i in range(total_batch):\n",
    "            batch_xs, batch_ys = mnist.train.next_batch(batch_size)\n",
    "            # fit trianing using batch data\n",
    "            _, c = sess.run([optimizer, cost], feed_dict = {x: batch_xs,\n",
    "                                                            y: batch_ys})\n",
    "            \n",
    "            # average loss\n",
    "            avg_cost += c/total_batch\n",
    "        # log per epoch step\n",
    "        if (epoch) % display_step == 0:\n",
    "            print('Epoch: {}, cost= {:.9f}'.format(epoch, avg_cost))\n",
    "            \n",
    "    print('Optimization finished')\n",
    "    \n",
    "    # test model\n",
    "    correct_prediction = tf.equal(tf.argmax(pred,1), tf.argmax(y,1))\n",
    "    \n",
    "    accuracy = tf.reduce_mean(tf.cast(correct_prediction, tf.float32))\n",
    "    print('Accuracy: {}'.format(accuracy.eval({x: mnist.test.images[:3000], y:mnist.test.labels[:3000]})))\n"
   ]
  }
 ],
 "metadata": {
  "kernelspec": {
   "display_name": "Python 3",
   "language": "python",
   "name": "python3"
  },
  "language_info": {
   "codemirror_mode": {
    "name": "ipython",
    "version": 3
   },
   "file_extension": ".py",
   "mimetype": "text/x-python",
   "name": "python",
   "nbconvert_exporter": "python",
   "pygments_lexer": "ipython3",
   "version": "3.5.4"
  }
 },
 "nbformat": 4,
 "nbformat_minor": 2
}
